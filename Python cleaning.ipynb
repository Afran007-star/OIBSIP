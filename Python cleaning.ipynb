{
 "cells": [
  {
   "cell_type": "code",
   "execution_count": 1,
   "id": "f76ad6d0",
   "metadata": {},
   "outputs": [],
   "source": [
    "import pandas as pd\n",
    "import numpy as np\n",
    "import matplotlib.pyplot as plt"
   ]
  },
  {
   "cell_type": "code",
   "execution_count": 2,
   "id": "982a7b44",
   "metadata": {},
   "outputs": [],
   "source": [
    "pd.set_option('display.max_columns', 100)\n",
    "pd.set_option('display.width', 120)"
   ]
  },
  {
   "cell_type": "code",
   "execution_count": 5,
   "id": "db881316-ea12-4856-b03c-e34aa6602b36",
   "metadata": {},
   "outputs": [],
   "source": [
    "file_path = \"C:/Users/mohda_vikbi4d/Downloads/Python_project/AB_NYC_2019.csv\""
   ]
  },
  {
   "cell_type": "code",
   "execution_count": 6,
   "id": "70b51ef7-7762-40a7-8ec2-a6ce552e6b5b",
   "metadata": {},
   "outputs": [
    {
     "data": {
      "text/html": [
       "<div>\n",
       "<style scoped>\n",
       "    .dataframe tbody tr th:only-of-type {\n",
       "        vertical-align: middle;\n",
       "    }\n",
       "\n",
       "    .dataframe tbody tr th {\n",
       "        vertical-align: top;\n",
       "    }\n",
       "\n",
       "    .dataframe thead th {\n",
       "        text-align: right;\n",
       "    }\n",
       "</style>\n",
       "<table border=\"1\" class=\"dataframe\">\n",
       "  <thead>\n",
       "    <tr style=\"text-align: right;\">\n",
       "      <th></th>\n",
       "      <th>id</th>\n",
       "      <th>name</th>\n",
       "      <th>host_id</th>\n",
       "      <th>host_name</th>\n",
       "      <th>neighbourhood_group</th>\n",
       "      <th>neighbourhood</th>\n",
       "      <th>latitude</th>\n",
       "      <th>longitude</th>\n",
       "      <th>room_type</th>\n",
       "      <th>price</th>\n",
       "      <th>minimum_nights</th>\n",
       "      <th>number_of_reviews</th>\n",
       "      <th>last_review</th>\n",
       "      <th>reviews_per_month</th>\n",
       "      <th>calculated_host_listings_count</th>\n",
       "      <th>availability_365</th>\n",
       "    </tr>\n",
       "  </thead>\n",
       "  <tbody>\n",
       "    <tr>\n",
       "      <th>0</th>\n",
       "      <td>2539</td>\n",
       "      <td>Clean &amp; quiet apt home by the park</td>\n",
       "      <td>2787</td>\n",
       "      <td>John</td>\n",
       "      <td>Brooklyn</td>\n",
       "      <td>Kensington</td>\n",
       "      <td>40.64749</td>\n",
       "      <td>-73.97237</td>\n",
       "      <td>Private room</td>\n",
       "      <td>149</td>\n",
       "      <td>1</td>\n",
       "      <td>9</td>\n",
       "      <td>2018-10-19</td>\n",
       "      <td>0.21</td>\n",
       "      <td>6</td>\n",
       "      <td>365</td>\n",
       "    </tr>\n",
       "    <tr>\n",
       "      <th>1</th>\n",
       "      <td>2595</td>\n",
       "      <td>Skylit Midtown Castle</td>\n",
       "      <td>2845</td>\n",
       "      <td>Jennifer</td>\n",
       "      <td>Manhattan</td>\n",
       "      <td>Midtown</td>\n",
       "      <td>40.75362</td>\n",
       "      <td>-73.98377</td>\n",
       "      <td>Entire home/apt</td>\n",
       "      <td>225</td>\n",
       "      <td>1</td>\n",
       "      <td>45</td>\n",
       "      <td>2019-05-21</td>\n",
       "      <td>0.38</td>\n",
       "      <td>2</td>\n",
       "      <td>355</td>\n",
       "    </tr>\n",
       "    <tr>\n",
       "      <th>2</th>\n",
       "      <td>3647</td>\n",
       "      <td>THE VILLAGE OF HARLEM....NEW YORK !</td>\n",
       "      <td>4632</td>\n",
       "      <td>Elisabeth</td>\n",
       "      <td>Manhattan</td>\n",
       "      <td>Harlem</td>\n",
       "      <td>40.80902</td>\n",
       "      <td>-73.94190</td>\n",
       "      <td>Private room</td>\n",
       "      <td>150</td>\n",
       "      <td>3</td>\n",
       "      <td>0</td>\n",
       "      <td>NaN</td>\n",
       "      <td>NaN</td>\n",
       "      <td>1</td>\n",
       "      <td>365</td>\n",
       "    </tr>\n",
       "    <tr>\n",
       "      <th>3</th>\n",
       "      <td>3831</td>\n",
       "      <td>Cozy Entire Floor of Brownstone</td>\n",
       "      <td>4869</td>\n",
       "      <td>LisaRoxanne</td>\n",
       "      <td>Brooklyn</td>\n",
       "      <td>Clinton Hill</td>\n",
       "      <td>40.68514</td>\n",
       "      <td>-73.95976</td>\n",
       "      <td>Entire home/apt</td>\n",
       "      <td>89</td>\n",
       "      <td>1</td>\n",
       "      <td>270</td>\n",
       "      <td>2019-07-05</td>\n",
       "      <td>4.64</td>\n",
       "      <td>1</td>\n",
       "      <td>194</td>\n",
       "    </tr>\n",
       "    <tr>\n",
       "      <th>4</th>\n",
       "      <td>5022</td>\n",
       "      <td>Entire Apt: Spacious Studio/Loft by central park</td>\n",
       "      <td>7192</td>\n",
       "      <td>Laura</td>\n",
       "      <td>Manhattan</td>\n",
       "      <td>East Harlem</td>\n",
       "      <td>40.79851</td>\n",
       "      <td>-73.94399</td>\n",
       "      <td>Entire home/apt</td>\n",
       "      <td>80</td>\n",
       "      <td>10</td>\n",
       "      <td>9</td>\n",
       "      <td>2018-11-19</td>\n",
       "      <td>0.10</td>\n",
       "      <td>1</td>\n",
       "      <td>0</td>\n",
       "    </tr>\n",
       "    <tr>\n",
       "      <th>...</th>\n",
       "      <td>...</td>\n",
       "      <td>...</td>\n",
       "      <td>...</td>\n",
       "      <td>...</td>\n",
       "      <td>...</td>\n",
       "      <td>...</td>\n",
       "      <td>...</td>\n",
       "      <td>...</td>\n",
       "      <td>...</td>\n",
       "      <td>...</td>\n",
       "      <td>...</td>\n",
       "      <td>...</td>\n",
       "      <td>...</td>\n",
       "      <td>...</td>\n",
       "      <td>...</td>\n",
       "      <td>...</td>\n",
       "    </tr>\n",
       "    <tr>\n",
       "      <th>48890</th>\n",
       "      <td>36484665</td>\n",
       "      <td>Charming one bedroom - newly renovated rowhouse</td>\n",
       "      <td>8232441</td>\n",
       "      <td>Sabrina</td>\n",
       "      <td>Brooklyn</td>\n",
       "      <td>Bedford-Stuyvesant</td>\n",
       "      <td>40.67853</td>\n",
       "      <td>-73.94995</td>\n",
       "      <td>Private room</td>\n",
       "      <td>70</td>\n",
       "      <td>2</td>\n",
       "      <td>0</td>\n",
       "      <td>NaN</td>\n",
       "      <td>NaN</td>\n",
       "      <td>2</td>\n",
       "      <td>9</td>\n",
       "    </tr>\n",
       "    <tr>\n",
       "      <th>48891</th>\n",
       "      <td>36485057</td>\n",
       "      <td>Affordable room in Bushwick/East Williamsburg</td>\n",
       "      <td>6570630</td>\n",
       "      <td>Marisol</td>\n",
       "      <td>Brooklyn</td>\n",
       "      <td>Bushwick</td>\n",
       "      <td>40.70184</td>\n",
       "      <td>-73.93317</td>\n",
       "      <td>Private room</td>\n",
       "      <td>40</td>\n",
       "      <td>4</td>\n",
       "      <td>0</td>\n",
       "      <td>NaN</td>\n",
       "      <td>NaN</td>\n",
       "      <td>2</td>\n",
       "      <td>36</td>\n",
       "    </tr>\n",
       "    <tr>\n",
       "      <th>48892</th>\n",
       "      <td>36485431</td>\n",
       "      <td>Sunny Studio at Historical Neighborhood</td>\n",
       "      <td>23492952</td>\n",
       "      <td>Ilgar &amp; Aysel</td>\n",
       "      <td>Manhattan</td>\n",
       "      <td>Harlem</td>\n",
       "      <td>40.81475</td>\n",
       "      <td>-73.94867</td>\n",
       "      <td>Entire home/apt</td>\n",
       "      <td>115</td>\n",
       "      <td>10</td>\n",
       "      <td>0</td>\n",
       "      <td>NaN</td>\n",
       "      <td>NaN</td>\n",
       "      <td>1</td>\n",
       "      <td>27</td>\n",
       "    </tr>\n",
       "    <tr>\n",
       "      <th>48893</th>\n",
       "      <td>36485609</td>\n",
       "      <td>43rd St. Time Square-cozy single bed</td>\n",
       "      <td>30985759</td>\n",
       "      <td>Taz</td>\n",
       "      <td>Manhattan</td>\n",
       "      <td>Hell's Kitchen</td>\n",
       "      <td>40.75751</td>\n",
       "      <td>-73.99112</td>\n",
       "      <td>Shared room</td>\n",
       "      <td>55</td>\n",
       "      <td>1</td>\n",
       "      <td>0</td>\n",
       "      <td>NaN</td>\n",
       "      <td>NaN</td>\n",
       "      <td>6</td>\n",
       "      <td>2</td>\n",
       "    </tr>\n",
       "    <tr>\n",
       "      <th>48894</th>\n",
       "      <td>36487245</td>\n",
       "      <td>Trendy duplex in the very heart of Hell's Kitchen</td>\n",
       "      <td>68119814</td>\n",
       "      <td>Christophe</td>\n",
       "      <td>Manhattan</td>\n",
       "      <td>Hell's Kitchen</td>\n",
       "      <td>40.76404</td>\n",
       "      <td>-73.98933</td>\n",
       "      <td>Private room</td>\n",
       "      <td>90</td>\n",
       "      <td>7</td>\n",
       "      <td>0</td>\n",
       "      <td>NaN</td>\n",
       "      <td>NaN</td>\n",
       "      <td>1</td>\n",
       "      <td>23</td>\n",
       "    </tr>\n",
       "  </tbody>\n",
       "</table>\n",
       "<p>48895 rows × 16 columns</p>\n",
       "</div>"
      ],
      "text/plain": [
       "             id                                               name   host_id      host_name neighbourhood_group  \\\n",
       "0          2539                 Clean & quiet apt home by the park      2787           John            Brooklyn   \n",
       "1          2595                              Skylit Midtown Castle      2845       Jennifer           Manhattan   \n",
       "2          3647                THE VILLAGE OF HARLEM....NEW YORK !      4632      Elisabeth           Manhattan   \n",
       "3          3831                    Cozy Entire Floor of Brownstone      4869    LisaRoxanne            Brooklyn   \n",
       "4          5022   Entire Apt: Spacious Studio/Loft by central park      7192          Laura           Manhattan   \n",
       "...         ...                                                ...       ...            ...                 ...   \n",
       "48890  36484665    Charming one bedroom - newly renovated rowhouse   8232441        Sabrina            Brooklyn   \n",
       "48891  36485057      Affordable room in Bushwick/East Williamsburg   6570630        Marisol            Brooklyn   \n",
       "48892  36485431            Sunny Studio at Historical Neighborhood  23492952  Ilgar & Aysel           Manhattan   \n",
       "48893  36485609               43rd St. Time Square-cozy single bed  30985759            Taz           Manhattan   \n",
       "48894  36487245  Trendy duplex in the very heart of Hell's Kitchen  68119814     Christophe           Manhattan   \n",
       "\n",
       "            neighbourhood  latitude  longitude        room_type  price  minimum_nights  number_of_reviews last_review  \\\n",
       "0              Kensington  40.64749  -73.97237     Private room    149               1                  9  2018-10-19   \n",
       "1                 Midtown  40.75362  -73.98377  Entire home/apt    225               1                 45  2019-05-21   \n",
       "2                  Harlem  40.80902  -73.94190     Private room    150               3                  0         NaN   \n",
       "3            Clinton Hill  40.68514  -73.95976  Entire home/apt     89               1                270  2019-07-05   \n",
       "4             East Harlem  40.79851  -73.94399  Entire home/apt     80              10                  9  2018-11-19   \n",
       "...                   ...       ...        ...              ...    ...             ...                ...         ...   \n",
       "48890  Bedford-Stuyvesant  40.67853  -73.94995     Private room     70               2                  0         NaN   \n",
       "48891            Bushwick  40.70184  -73.93317     Private room     40               4                  0         NaN   \n",
       "48892              Harlem  40.81475  -73.94867  Entire home/apt    115              10                  0         NaN   \n",
       "48893      Hell's Kitchen  40.75751  -73.99112      Shared room     55               1                  0         NaN   \n",
       "48894      Hell's Kitchen  40.76404  -73.98933     Private room     90               7                  0         NaN   \n",
       "\n",
       "       reviews_per_month  calculated_host_listings_count  availability_365  \n",
       "0                   0.21                               6               365  \n",
       "1                   0.38                               2               355  \n",
       "2                    NaN                               1               365  \n",
       "3                   4.64                               1               194  \n",
       "4                   0.10                               1                 0  \n",
       "...                  ...                             ...               ...  \n",
       "48890                NaN                               2                 9  \n",
       "48891                NaN                               2                36  \n",
       "48892                NaN                               1                27  \n",
       "48893                NaN                               6                 2  \n",
       "48894                NaN                               1                23  \n",
       "\n",
       "[48895 rows x 16 columns]"
      ]
     },
     "execution_count": 6,
     "metadata": {},
     "output_type": "execute_result"
    }
   ],
   "source": [
    "df = pd.read_csv(file_path)\n",
    "df"
   ]
  },
  {
   "cell_type": "code",
   "execution_count": 7,
   "id": "7277d971-6b92-4216-a3e7-0d9085928fc1",
   "metadata": {},
   "outputs": [
    {
     "name": "stdout",
     "output_type": "stream",
     "text": [
      "Shape: (48895, 16)\n"
     ]
    }
   ],
   "source": [
    "print(\"Shape:\", df.shape)"
   ]
  },
  {
   "cell_type": "code",
   "execution_count": 8,
   "id": "141fd48d-2a9a-4c32-9078-1a43b4d4366a",
   "metadata": {},
   "outputs": [
    {
     "name": "stdout",
     "output_type": "stream",
     "text": [
      "\n",
      "Columns:\n",
      " ['id', 'name', 'host_id', 'host_name', 'neighbourhood_group', 'neighbourhood', 'latitude', 'longitude', 'room_type', 'price', 'minimum_nights', 'number_of_reviews', 'last_review', 'reviews_per_month', 'calculated_host_listings_count', 'availability_365']\n"
     ]
    }
   ],
   "source": [
    "print(\"\\nColumns:\\n\", df.columns.tolist())"
   ]
  },
  {
   "cell_type": "code",
   "execution_count": 9,
   "id": "282b07dd-b613-4fc0-8a7f-0b6ca272963a",
   "metadata": {},
   "outputs": [
    {
     "name": "stdout",
     "output_type": "stream",
     "text": [
      "\n",
      "Data types:\n",
      " id                                  int64\n",
      "name                               object\n",
      "host_id                             int64\n",
      "host_name                          object\n",
      "neighbourhood_group                object\n",
      "neighbourhood                      object\n",
      "latitude                          float64\n",
      "longitude                         float64\n",
      "room_type                          object\n",
      "price                               int64\n",
      "minimum_nights                      int64\n",
      "number_of_reviews                   int64\n",
      "last_review                        object\n",
      "reviews_per_month                 float64\n",
      "calculated_host_listings_count      int64\n",
      "availability_365                    int64\n",
      "dtype: object\n"
     ]
    }
   ],
   "source": [
    "print(\"\\nData types:\\n\",df.dtypes)\n"
   ]
  },
  {
   "cell_type": "code",
   "execution_count": 10,
   "id": "8a4e22d9-ad7d-4395-b38a-c8037c436e3b",
   "metadata": {},
   "outputs": [
    {
     "name": "stdout",
     "output_type": "stream",
     "text": [
      "\n",
      "\n",
      "Non-null counts & missing values per column:\n",
      "id                                    0\n",
      "name                                 16\n",
      "host_id                               0\n",
      "host_name                            21\n",
      "neighbourhood_group                   0\n",
      "neighbourhood                         0\n",
      "latitude                              0\n",
      "longitude                             0\n",
      "room_type                             0\n",
      "price                                 0\n",
      "minimum_nights                        0\n",
      "number_of_reviews                     0\n",
      "last_review                       10052\n",
      "reviews_per_month                 10052\n",
      "calculated_host_listings_count        0\n",
      "availability_365                      0\n",
      "dtype: int64\n"
     ]
    }
   ],
   "source": [
    "print(\"\\n\\nNon-null counts & missing values per column:\")\n",
    "print(df.isnull().sum())"
   ]
  },
  {
   "cell_type": "code",
   "execution_count": 11,
   "id": "c33e869e-db2d-410c-953d-f722ff64ac5c",
   "metadata": {},
   "outputs": [
    {
     "name": "stdout",
     "output_type": "stream",
     "text": [
      "\n",
      "Number of unique values per column (sample):\n",
      "id                                48895\n",
      "name                              47905\n",
      "host_id                           37457\n",
      "latitude                          19048\n",
      "longitude                         14718\n",
      "host_name                         11452\n",
      "last_review                        1764\n",
      "reviews_per_month                   937\n",
      "price                               674\n",
      "number_of_reviews                   394\n",
      "availability_365                    366\n",
      "neighbourhood                       221\n",
      "minimum_nights                      109\n",
      "calculated_host_listings_count       47\n",
      "neighbourhood_group                   5\n",
      "room_type                             3\n",
      "dtype: int64\n"
     ]
    }
   ],
   "source": [
    "print(\"\\nNumber of unique values per column (sample):\")\n",
    "print(df.nunique().sort_values(ascending=False))"
   ]
  },
  {
   "cell_type": "code",
   "execution_count": 12,
   "id": "7de0fd11-d005-4097-ad94-4801aea79b20",
   "metadata": {},
   "outputs": [],
   "source": [
    "df['name'] = df['name'].fillna(\"Unknown\")  #.fillna() is used to fill the null/missing values with given values\n",
    "df['host_name'] = df['host_name'].fillna(\"Unknown\")"
   ]
  },
  {
   "cell_type": "code",
   "execution_count": 14,
   "id": "6e5ccd35-fa38-4347-a37d-642bc0be90f8",
   "metadata": {},
   "outputs": [],
   "source": [
    "df['reviews_per_month'] = df['reviews_per_month'].fillna(0)"
   ]
  },
  {
   "cell_type": "code",
   "execution_count": 15,
   "id": "cc53eb41-44b6-47bc-95ce-b22520a18fd4",
   "metadata": {},
   "outputs": [],
   "source": [
    "df['last_review'] = pd.to_datetime(df['last_review'], errors='coerce')"
   ]
  },
  {
   "cell_type": "code",
   "execution_count": 16,
   "id": "b09afcc8-f4c6-4260-9d5e-fbf32d3e76aa",
   "metadata": {},
   "outputs": [
    {
     "name": "stdout",
     "output_type": "stream",
     "text": [
      "Missing values after cleaning:\n",
      " id                                    0\n",
      "name                                  0\n",
      "host_id                               0\n",
      "host_name                             0\n",
      "neighbourhood_group                   0\n",
      "neighbourhood                         0\n",
      "latitude                              0\n",
      "longitude                             0\n",
      "room_type                             0\n",
      "price                                 0\n",
      "minimum_nights                        0\n",
      "number_of_reviews                     0\n",
      "last_review                       10052\n",
      "reviews_per_month                     0\n",
      "calculated_host_listings_count        0\n",
      "availability_365                      0\n",
      "dtype: int64\n",
      "\n",
      "Data types after conversion:\n",
      "\n",
      " id                                         int64\n",
      "name                                      object\n",
      "host_id                                    int64\n",
      "host_name                                 object\n",
      "neighbourhood_group                       object\n",
      "neighbourhood                             object\n",
      "latitude                                 float64\n",
      "longitude                                float64\n",
      "room_type                                 object\n",
      "price                                      int64\n",
      "minimum_nights                             int64\n",
      "number_of_reviews                          int64\n",
      "last_review                       datetime64[ns]\n",
      "reviews_per_month                        float64\n",
      "calculated_host_listings_count             int64\n",
      "availability_365                           int64\n",
      "dtype: object\n"
     ]
    }
   ],
   "source": [
    "print(\"Missing values after cleaning:\\n\", df.isnull().sum())\n",
    "print(\"\\nData types after conversion:\\n\\n\", df.dtypes)"
   ]
  },
  {
   "cell_type": "code",
   "execution_count": 17,
   "id": "eef81fb6-8571-4837-80fe-d5bbba16d558",
   "metadata": {},
   "outputs": [
    {
     "name": "stdout",
     "output_type": "stream",
     "text": [
      "\n",
      "Last review date range: 2011-03-28 00:00:00 to 2019-07-08 00:00:00\n"
     ]
    }
   ],
   "source": [
    "# Quick look at last_review\n",
    "print(\"\\nLast review date range:\", df['last_review'].min(), \"to\", df['last_review'].max())"
   ]
  },
  {
   "cell_type": "code",
   "execution_count": 18,
   "id": "730f5e0b-fe5c-4b8f-9335-5308908640ff",
   "metadata": {},
   "outputs": [
    {
     "name": "stdout",
     "output_type": "stream",
     "text": [
      "Number of duplicate rows before removal: 0\n"
     ]
    }
   ],
   "source": [
    "# Count duplicates before removal\n",
    "duplicates_before = df.duplicated().sum()\n",
    "print(\"Number of duplicate rows before removal:\", duplicates_before)\n"
   ]
  },
  {
   "cell_type": "code",
   "execution_count": 19,
   "id": "b67de7b0-1cb4-4ba2-a4b4-2271243cf0eb",
   "metadata": {},
   "outputs": [],
   "source": [
    "df = df.drop_duplicates()"
   ]
  },
  {
   "cell_type": "code",
   "execution_count": 20,
   "id": "dd74e1f1-7e13-4f15-8120-2745a4076d23",
   "metadata": {},
   "outputs": [
    {
     "name": "stdout",
     "output_type": "stream",
     "text": [
      "Number of duplicate rows after removal: 0\n"
     ]
    }
   ],
   "source": [
    "# Count again\n",
    "duplicates_after = df.duplicated().sum()\n",
    "print(\"Number of duplicate rows after removal:\", duplicates_after)"
   ]
  },
  {
   "cell_type": "code",
   "execution_count": 26,
   "id": "90504aec-3286-4cb8-8f32-d1c919b802af",
   "metadata": {},
   "outputs": [
    {
     "name": "stdout",
     "output_type": "stream",
     "text": [
      "Shape after duplicate removal: (48895, 16)\n"
     ]
    }
   ],
   "source": [
    "# Shape after cleaning\n",
    "print(\"Shape after duplicate removal:\", df.shape)"
   ]
  },
  {
   "cell_type": "code",
   "execution_count": 21,
   "id": "5a10f72f-f0bc-450c-8cc4-fee11f1a0ea5",
   "metadata": {},
   "outputs": [
    {
     "name": "stdout",
     "output_type": "stream",
     "text": [
      "Neighbourhood Groups (before): ['Brooklyn' 'Manhattan' 'Queens' 'Staten Island' 'Bronx']\n",
      "Room Types (before): ['Private room' 'Entire home/apt' 'Shared room']\n"
     ]
    }
   ],
   "source": [
    "# Step 4: Standardization of categorical values\n",
    "# Check unique values before cleaning\n",
    "print(\"Neighbourhood Groups (before):\", df['neighbourhood_group'].unique())\n",
    "print(\"Room Types (before):\", df['room_type'].unique())"
   ]
  },
  {
   "cell_type": "code",
   "execution_count": 22,
   "id": "5a9cfca2-ff88-441c-9119-3a7a969890ba",
   "metadata": {},
   "outputs": [],
   "source": [
    "# Clean text columns (strip spaces, proper casing)\n",
    "df['neighbourhood_group'] = df['neighbourhood_group'].str.strip().str.title()\n",
    "df['neighbourhood'] = df['neighbourhood'].str.strip().str.title()\n",
    "df['room_type'] = df['room_type'].str.strip().str.title()\n"
   ]
  },
  {
   "cell_type": "code",
   "execution_count": 23,
   "id": "87d8b15d-e35e-4948-b419-8cd72a7d7aa7",
   "metadata": {},
   "outputs": [
    {
     "name": "stdout",
     "output_type": "stream",
     "text": [
      "\n",
      "Neighbourhood Groups (after): ['Brooklyn' 'Manhattan' 'Queens' 'Staten Island' 'Bronx']\n",
      "\n",
      "Room Types (after): ['Private Room' 'Entire Home/Apt' 'Shared Room']\n"
     ]
    }
   ],
   "source": [
    "# Verify after cleaning\n",
    "print(\"\\nNeighbourhood Groups (after):\", df['neighbourhood_group'].unique())\n",
    "print(\"\\nRoom Types (after):\", df['room_type'].unique())"
   ]
  },
  {
   "cell_type": "code",
   "execution_count": 24,
   "id": "a77122f6-0d14-450e-b982-43207f6f754f",
   "metadata": {},
   "outputs": [
    {
     "data": {
      "image/png": "[encoded data removed]",
      "text/plain": [
       "<Figure size 800x400 with 1 Axes>"
      ]
     },
     "metadata": {},
     "output_type": "display_data"
    }
   ],
   "source": [
    "# Step 5: Outlier detection & removal\n",
    " # Plot price distribution before filtering\n",
    "plt.figure(figsize=(8,4))\n",
    "df['price'].plot(kind='box', vert=False)\n",
    "plt.title(\"Price Distribution (Before Cleaning)\")\n",
    "plt.show()"
   ]
  },
  {
   "cell_type": "code",
   "execution_count": 25,
   "id": "37190795-fdb7-4523-bfba-8528e9e3414e",
   "metadata": {},
   "outputs": [],
   "source": [
    "# Filter out unrealistic prices\n",
    "df = df[df['price'] <= 1000]"
   ]
  },
  {
   "cell_type": "code",
   "execution_count": 29,
   "id": "715a57e9-f836-406d-ba11-e635694fbe38",
   "metadata": {},
   "outputs": [
    {
     "data": {
      "image/png": "[encoded data removed]",
      "text/plain": [
       "<Figure size 800x400 with 1 Axes>"
      ]
     },
     "metadata": {},
     "output_type": "display_data"
    }
   ],
   "source": [
    "# Plot minimum_nights distribution before filtering\n",
    "plt.figure(figsize=(8,4))\n",
    "df['minimum_nights'].plot(kind='box', vert=False)\n",
    "plt.title(\"Minimum Nights Distribution (Before Cleaning)\")\n",
    "plt.show()"
   ]
  },
  {
   "cell_type": "code",
   "execution_count": 30,
   "id": "55229a78-5d03-4240-8fb9-14459592a229",
   "metadata": {},
   "outputs": [],
   "source": [
    "# Filter out unrealistic minimum_nights\n",
    "df = df[df['minimum_nights'] <= 365]"
   ]
  },
  {
   "cell_type": "code",
   "execution_count": 31,
   "id": "ae7de8e3-1492-4185-94ef-c4f00b8703ce",
   "metadata": {},
   "outputs": [
    {
     "name": "stdout",
     "output_type": "stream",
     "text": [
      "Shape after removing outliers: (48642, 16)\n",
      "Price range: 0 - 1000\n",
      "Minimum nights range: 1 - 365\n"
     ]
    }
   ],
   "source": [
    "# Shape after cleaning\n",
    "print(\"Shape after removing outliers:\", df.shape)\n",
    "print(\"Price range:\", df['price'].min(), \"-\", df['price'].max())\n",
    "print(\"Minimum nights range:\", df['minimum_nights'].min(), \"-\", df['minimum_nights'].max())"
   ]
  },
  {
   "cell_type": "code",
   "execution_count": 32,
   "id": "56830b35-3a6b-4ea7-b62b-497aa73727c7",
   "metadata": {},
   "outputs": [
    {
     "data": {
      "image/png": "[encoded data removed]",
      "text/plain": [
       "<Figure size 800x400 with 1 Axes>"
      ]
     },
     "metadata": {},
     "output_type": "display_data"
    }
   ],
   "source": [
    "# Plot minimum_nights distribution after filtering\n",
    "plt.figure(figsize=(8,4))\n",
    "df['minimum_nights'].plot(kind='box', vert=False)   #Checking the visual after filtering minimum nights\n",
    "plt.title(\"Minimum Nights Distribution (after cleaning)\")\n",
    "plt.show()"
   ]
  },
  {
   "cell_type": "code",
   "execution_count": 33,
   "id": "aa5cf828-d611-460b-acbc-5ca63084508b",
   "metadata": {},
   "outputs": [
    {
     "name": "stdout",
     "output_type": "stream",
     "text": [
      "Missing values:\n",
      " id                                   0\n",
      "name                                 0\n",
      "host_id                              0\n",
      "host_name                            0\n",
      "neighbourhood_group                  0\n",
      "neighbourhood                        0\n",
      "latitude                             0\n",
      "longitude                            0\n",
      "room_type                            0\n",
      "price                                0\n",
      "minimum_nights                       0\n",
      "number_of_reviews                    0\n",
      "last_review                       9912\n",
      "reviews_per_month                    0\n",
      "calculated_host_listings_count       0\n",
      "availability_365                     0\n",
      "dtype: int64\n",
      "\n",
      "Duplicate rows: 0\n",
      "\n",
      "Final dataset shape: (48642, 16)\n",
      "\n",
      "Cleaned dataset saved as 'AB_NYC_2019_cleaned.csv'\n"
     ]
    }
   ],
   "source": [
    "# Final cleaned dataset\n",
    "\n",
    "# Final check for missing values\n",
    "print(\"Missing values:\\n\", df.isnull().sum())\n",
    "\n",
    "# Final check for duplicates\n",
    "print(\"\\nDuplicate rows:\", df.duplicated().sum())\n",
    "\n",
    "# Final shape\n",
    "print(\"\\nFinal dataset shape:\", df.shape)\n",
    "\n",
    "# Save cleaned dataset\n",
    "df.to_csv(\"AB_NYC_2019_cleaned.csv\", index=False)\n",
    "print(\"\\nCleaned dataset saved as 'AB_NYC_2019_cleaned.csv'\")\n"
   ]
  },
  {
   "cell_type": "code",
   "execution_count": null,
   "id": "2b7319a9-8ec0-4150-9239-f7f4f2d0b52e",
   "metadata": {},
   "outputs": [],
   "source": []
  }
 ],
 "metadata": {
  "kernelspec": {
   "display_name": "Python 3 (ipykernel)",
   "language": "python",
   "name": "python3"
  },
  "language_info": {
   "codemirror_mode": {
    "name": "ipython",
    "version": 3
   },
   "file_extension": ".py",
   "mimetype": "text/x-python",
   "name": "python",
   "nbconvert_exporter": "python",
   "pygments_lexer": "ipython3",
   "version": "3.12.7"
  }
 },
 "nbformat": 4,
 "nbformat_minor": 5
}
